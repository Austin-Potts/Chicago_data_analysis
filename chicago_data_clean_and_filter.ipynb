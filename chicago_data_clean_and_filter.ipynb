{
 "cells": [
  {
   "cell_type": "code",
   "execution_count": 22,
   "metadata": {},
   "outputs": [
    {
     "name": "stdout",
     "output_type": "stream",
     "text": [
      "Day = 7\n"
     ]
    }
   ],
   "source": [
    "#importing dependencies and setting app token\n",
    "import pandas as pd\n",
    "import requests\n",
    "from datetime import date, datetime\n",
    "from sodapy import Socrata\n",
    "import csv\n",
    "from io import StringIO\n",
    "from sqlalchemy import create_engine\n",
    "\n",
    "MyAppToken = 'GuILMuJLLhVOQ8u9cyXPc56p3'\n",
    "\n",
    "#checking the day of the month and printing the result, this is used to filter the dataframe later\n",
    "today = date.today()\n",
    "daynum = today.strftime(\"%d\")\n",
    "day = int(daynum) - 7\n",
    "print(\"Day =\", day)"
   ]
  },
  {
   "cell_type": "code",
   "execution_count": 23,
   "metadata": {},
   "outputs": [],
   "source": [
    "crime_data = \"ijzp-q8t2\"\n",
    "client = Socrata(\"data.cityofchicago.org\", MyAppToken)\n",
    "df = pd.DataFrame(\n",
    "    client.get(\n",
    "        crime_data, \n",
    "        where=f\"Date BETWEEN '2020-01-01' AND '2020-04-{day}'\",\n",
    "        limit=100000,\n",
    "        exclude_system_fields=True\n",
    "    )\n",
    ")\n",
    "client.close()"
   ]
  },
  {
   "cell_type": "code",
   "execution_count": 27,
   "metadata": {
    "scrolled": true
   },
   "outputs": [
    {
     "data": {
      "text/plain": [
       "(55650, 9)"
      ]
     },
     "execution_count": 27,
     "metadata": {},
     "output_type": "execute_result"
    }
   ],
   "source": [
    "df['month'] = pd.DatetimeIndex(df['date']).month\n",
    "df['year'] = pd.DatetimeIndex(df['date']).year\n",
    "df['date'] = pd.to_datetime(df['date']).dt.strftime('%m.%d.%Y')\n",
    "\n",
    "df[\"primary_type\"] = df[\"primary_type\"].str.lower().str.title()\n",
    "df[\"description\"] = df[\"description\"].str.lower().str.title()\n",
    "df[\"location\"] = df[\"location_description\"].str.lower().str.title()\n",
    "\n",
    "# Organize: \n",
    "current_df = df[[\"date\",\"month\", \"year\",\"primary_type\", \"description\",\"latitude\", \"longitude\", \"domestic\"]]\n",
    "current_df.shape"
   ]
  },
  {
   "cell_type": "code",
   "execution_count": 25,
   "metadata": {},
   "outputs": [],
   "source": [
    "df1 = pd.DataFrame(\n",
    "    client.get(\n",
    "        crime_data, \n",
    "        where=f\"Date BETWEEN '2019-01-01' AND '2019-04-{day}'\",\n",
    "        limit=500000,\n",
    "        exclude_system_fields=True\n",
    "    )\n",
    ")\n",
    "client.close()"
   ]
  },
  {
   "cell_type": "code",
   "execution_count": 28,
   "metadata": {
    "scrolled": true
   },
   "outputs": [
    {
     "data": {
      "text/plain": [
       "(62515, 9)"
      ]
     },
     "execution_count": 28,
     "metadata": {},
     "output_type": "execute_result"
    }
   ],
   "source": [
    "df1['month'] = pd.DatetimeIndex(df1['date']).month\n",
    "df1['year'] = pd.DatetimeIndex(df1['date']).year\n",
    "df1['date'] = pd.to_datetime(df1['date']).dt.strftime('%m.%d.%Y')\n",
    "\n",
    "df1[\"primary_type\"] = df1[\"primary_type\"].str.lower().str.title()\n",
    "df1[\"description\"] = df1[\"description\"].str.lower().str.title()\n",
    "df1[\"location\"] = df1[\"location_description\"].str.lower().str.title()\n",
    "\n",
    "# Organize: \n",
    "old_df = df1[[\"date\",\"month\",\"year\",\"primary_type\",\"description\",\"latitude\",\"longitude\",\"domestic\"]]\n",
    "old_df.shape"
   ]
  },
  {
   "cell_type": "code",
   "execution_count": 45,
   "metadata": {},
   "outputs": [
    {
     "data": {
      "text/html": [
       "<div>\n",
       "<style scoped>\n",
       "    .dataframe tbody tr th:only-of-type {\n",
       "        vertical-align: middle;\n",
       "    }\n",
       "\n",
       "    .dataframe tbody tr th {\n",
       "        vertical-align: top;\n",
       "    }\n",
       "\n",
       "    .dataframe thead th {\n",
       "        text-align: right;\n",
       "    }\n",
       "</style>\n",
       "<table border=\"1\" class=\"dataframe\">\n",
       "  <thead>\n",
       "    <tr style=\"text-align: right;\">\n",
       "      <th></th>\n",
       "      <th>index</th>\n",
       "      <th>date</th>\n",
       "      <th>month</th>\n",
       "      <th>year</th>\n",
       "      <th>primary_type</th>\n",
       "      <th>description</th>\n",
       "      <th>location</th>\n",
       "      <th>latitude</th>\n",
       "      <th>longitude</th>\n",
       "      <th>domestic</th>\n",
       "    </tr>\n",
       "  </thead>\n",
       "  <tbody>\n",
       "    <tr>\n",
       "      <td>0</td>\n",
       "      <td>0</td>\n",
       "      <td>01.01.2019</td>\n",
       "      <td>1</td>\n",
       "      <td>2019</td>\n",
       "      <td>Sex Offense</td>\n",
       "      <td>Aggravated Criminal Sexual Abuse</td>\n",
       "      <td>Residence</td>\n",
       "      <td>41.907072136</td>\n",
       "      <td>-87.731331357</td>\n",
       "      <td>False</td>\n",
       "    </tr>\n",
       "    <tr>\n",
       "      <td>1</td>\n",
       "      <td>1</td>\n",
       "      <td>01.01.2019</td>\n",
       "      <td>1</td>\n",
       "      <td>2019</td>\n",
       "      <td>Offense Involving Children</td>\n",
       "      <td>Aggravated Criminal Sexual Abuse By Family Member</td>\n",
       "      <td>Apartment</td>\n",
       "      <td>41.853079711</td>\n",
       "      <td>-87.676856787</td>\n",
       "      <td>False</td>\n",
       "    </tr>\n",
       "    <tr>\n",
       "      <td>2</td>\n",
       "      <td>2</td>\n",
       "      <td>01.01.2019</td>\n",
       "      <td>1</td>\n",
       "      <td>2019</td>\n",
       "      <td>Offense Involving Children</td>\n",
       "      <td>Child Abuse</td>\n",
       "      <td>Residence</td>\n",
       "      <td>41.875288057</td>\n",
       "      <td>-87.723999683</td>\n",
       "      <td>True</td>\n",
       "    </tr>\n",
       "    <tr>\n",
       "      <td>3</td>\n",
       "      <td>3</td>\n",
       "      <td>01.01.2019</td>\n",
       "      <td>1</td>\n",
       "      <td>2019</td>\n",
       "      <td>Deceptive Practice</td>\n",
       "      <td>Financial Identity Theft Over $ 300</td>\n",
       "      <td>Apartment</td>\n",
       "      <td>41.929013312</td>\n",
       "      <td>-87.799805351</td>\n",
       "      <td>False</td>\n",
       "    </tr>\n",
       "    <tr>\n",
       "      <td>4</td>\n",
       "      <td>4</td>\n",
       "      <td>01.01.2019</td>\n",
       "      <td>1</td>\n",
       "      <td>2019</td>\n",
       "      <td>Sex Offense</td>\n",
       "      <td>Agg Criminal Sexual Abuse</td>\n",
       "      <td>Apartment</td>\n",
       "      <td>41.896591951</td>\n",
       "      <td>-87.692793096</td>\n",
       "      <td>True</td>\n",
       "    </tr>\n",
       "  </tbody>\n",
       "</table>\n",
       "</div>"
      ],
      "text/plain": [
       "   index        date  month  year                primary_type  \\\n",
       "0      0  01.01.2019      1  2019                 Sex Offense   \n",
       "1      1  01.01.2019      1  2019  Offense Involving Children   \n",
       "2      2  01.01.2019      1  2019  Offense Involving Children   \n",
       "3      3  01.01.2019      1  2019          Deceptive Practice   \n",
       "4      4  01.01.2019      1  2019                 Sex Offense   \n",
       "\n",
       "                                         description   location      latitude  \\\n",
       "0                   Aggravated Criminal Sexual Abuse  Residence  41.907072136   \n",
       "1  Aggravated Criminal Sexual Abuse By Family Member  Apartment  41.853079711   \n",
       "2                                        Child Abuse  Residence  41.875288057   \n",
       "3                Financial Identity Theft Over $ 300  Apartment  41.929013312   \n",
       "4                          Agg Criminal Sexual Abuse  Apartment  41.896591951   \n",
       "\n",
       "       longitude  domestic  \n",
       "0  -87.731331357     False  \n",
       "1  -87.676856787     False  \n",
       "2  -87.723999683      True  \n",
       "3  -87.799805351     False  \n",
       "4  -87.692793096      True  "
      ]
     },
     "execution_count": 45,
     "metadata": {},
     "output_type": "execute_result"
    }
   ],
   "source": [
    "dataframes = [old_df, current_df]\n",
    "\n",
    "final_df = pd.concat(dataframes)\n",
    "\n",
    "final_df.reset_index(inplace=True)\n",
    "\n",
    "final_df.head()"
   ]
  },
  {
   "cell_type": "code",
   "execution_count": null,
   "metadata": {},
   "outputs": [],
   "source": [
    "def psql_insert_copy(table, conn, keys, data_iter):\n",
    "    # gets a DBAPI connection that can provide a cursor\n",
    "    dbapi_conn = conn.connection\n",
    "    with dbapi_conn.cursor() as cur:\n",
    "        s_buf = StringIO()\n",
    "        writer = csv.writer(s_buf)\n",
    "        writer.writerows(data_iter)\n",
    "        s_buf.seek(0)\n",
    "\n",
    "        columns = ', '.join('\"{}\"'.format(k) for k in keys)\n",
    "        if table.schema:\n",
    "            table_name = '{}.{}'.format(table.schema, table.name)\n",
    "        else:\n",
    "            table_name = table.name\n",
    "\n",
    "        sql = 'COPY {} ({}) FROM STDIN WITH CSV'.format(\n",
    "            table_name, columns)\n",
    "        cur.copy_expert(sql=sql, file=s_buf)\n",
    "\n",
    "rds_connection_string = \"postgres:postgres@localhost:5432/crimeandcovid19\"\n",
    "engine = create_engine(f'postgresql://{rds_connection_string}')\n",
    "final_df.to_sql('chicago_data', engine, method=psql_insert_copy)"
   ]
  },
  {
   "cell_type": "code",
   "execution_count": null,
   "metadata": {},
   "outputs": [],
   "source": [
    "engine.table_names()"
   ]
  },
  {
   "cell_type": "code",
   "execution_count": null,
   "metadata": {},
   "outputs": [],
   "source": [
    "pd.read_sql_query('select * from chicago_data', con=engine).head()"
   ]
  }
 ],
 "metadata": {
  "kernelspec": {
   "display_name": "Python 3",
   "language": "python",
   "name": "python3"
  },
  "language_info": {
   "codemirror_mode": {
    "name": "ipython",
    "version": 3
   },
   "file_extension": ".py",
   "mimetype": "text/x-python",
   "name": "python",
   "nbconvert_exporter": "python",
   "pygments_lexer": "ipython3",
   "version": "3.7.4"
  }
 },
 "nbformat": 4,
 "nbformat_minor": 2
}
